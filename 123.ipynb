{
 "cells": [
  {
   "cell_type": "code",
   "execution_count": 1,
   "metadata": {},
   "outputs": [
    {
     "name": "stdout",
     "output_type": "stream",
     "text": [
      "bob\\joe\big\\jim\n"
     ]
    }
   ],
   "source": [
    "print(\"bob\\joe\\big\\jim\")"
   ]
  },
  {
   "cell_type": "code",
   "execution_count": 2,
   "metadata": {},
   "outputs": [
    {
     "name": "stdout",
     "output_type": "stream",
     "text": [
      "bob\n",
      "joe\n",
      "big\n",
      "jim\n"
     ]
    }
   ],
   "source": [
    "print(\"bob\\njoe\\nbig\\njim\")"
   ]
  },
  {
   "cell_type": "code",
   "execution_count": 3,
   "metadata": {},
   "outputs": [
    {
     "name": "stdout",
     "output_type": "stream",
     "text": [
      "hello!my name is bob joe\n"
     ]
    }
   ],
   "source": [
    "print(\"hello!my name is bob joe\")"
   ]
  },
  {
   "cell_type": "code",
   "execution_count": 6,
   "metadata": {},
   "outputs": [
    {
     "ename": "SyntaxError",
     "evalue": "invalid syntax (<ipython-input-6-cd9a800d2f5d>, line 1)",
     "output_type": "error",
     "traceback": [
      "\u001b[0;36m  File \u001b[0;32m\"<ipython-input-6-cd9a800d2f5d>\"\u001b[0;36m, line \u001b[0;32m1\u001b[0m\n\u001b[0;31m    print('bob joey is super awesome!\\nbig jim can't fly to the moon\")\u001b[0m\n\u001b[0m                                                   ^\u001b[0m\n\u001b[0;31mSyntaxError\u001b[0m\u001b[0;31m:\u001b[0m invalid syntax\n"
     ]
    }
   ],
   "source": [
    "print('bob joey is super awesome!\\nbig jim can't fly to the moon\")"
   ]
  },
  {
   "cell_type": "code",
   "execution_count": 12,
   "metadata": {},
   "outputs": [],
   "source": [
    "feeling='sad'"
   ]
  },
  {
   "cell_type": "code",
   "execution_count": 13,
   "metadata": {},
   "outputs": [
    {
     "name": "stdout",
     "output_type": "stream",
     "text": [
      "I'm so sad today\n"
     ]
    }
   ],
   "source": [
    "print(f\"I'm so {feeling} today\")"
   ]
  },
  {
   "cell_type": "code",
   "execution_count": 14,
   "metadata": {},
   "outputs": [
    {
     "name": "stdout",
     "output_type": "stream",
     "text": [
      "haiku\n",
      "Lucas is awesome!\n",
      "Bob Jeff likes coding a lot!\n",
      "Coding is awesome!\n"
     ]
    }
   ],
   "source": [
    "print(\"haikuLucas is awesome!Bob Jeff likes coding a lot!Coding is awesome!\")"
   ]
  },
  {
   "cell_type": "code",
   "execution_count": 16,
   "metadata": {},
   "outputs": [],
   "source": [
    "haiku=\"\"\"\n",
    "Lucas is awesome!\n",
    "Bob Jeff likes coding a lot!\n",
    "Coding is awesome!\n",
    "\"\"\""
   ]
  },
  {
   "cell_type": "code",
   "execution_count": 18,
   "metadata": {},
   "outputs": [
    {
     "name": "stdout",
     "output_type": "stream",
     "text": [
      "\n",
      "Lucas is awesome!\n",
      "Bob Jeff likes coding a lot!\n",
      "Coding is awesome!\n",
      "\n"
     ]
    }
   ],
   "source": [
    "print(f\"{haiku}\")"
   ]
  },
  {
   "cell_type": "code",
   "execution_count": 3,
   "metadata": {},
   "outputs": [],
   "source": [
    "name=\"tutu\"\n",
    "adjective=\"smelly\"\n",
    "place=\"china\"\n",
    "verb=\"jumping\"\n",
    "food=\"cotton candy\"\n",
    "person=\"lucas\""
   ]
  },
  {
   "cell_type": "code",
   "execution_count": 4,
   "metadata": {},
   "outputs": [],
   "source": [
    "madlibs=f\"\"\"\n",
    "Hello,I have a pig called {name}.\n",
    "It is super {adjective}!\n",
    "He loves to play at {place}.\n",
    "{name} is super good at {verb}.\n",
    "{name} also likes to eat {food}!\n",
    "His favourite person is {person}!\n",
    "\"\"\"\n",
    "\n"
   ]
  },
  {
   "cell_type": "code",
   "execution_count": 24,
   "metadata": {},
   "outputs": [
    {
     "ename": "SyntaxError",
     "evalue": "invalid syntax (<ipython-input-24-4d36b925941c>, line 1)",
     "output_type": "error",
     "traceback": [
      "\u001b[0;36m  File \u001b[0;32m\"<ipython-input-24-4d36b925941c>\"\u001b[0;36m, line \u001b[0;32m1\u001b[0m\n\u001b[0;31m    first name=\"bob\"\u001b[0m\n\u001b[0m             ^\u001b[0m\n\u001b[0;31mSyntaxError\u001b[0m\u001b[0;31m:\u001b[0m invalid syntax\n"
     ]
    }
   ],
   "source": [
    "first name=\"bob\""
   ]
  },
  {
   "cell_type": "code",
   "execution_count": 26,
   "metadata": {},
   "outputs": [
    {
     "ename": "SyntaxError",
     "evalue": "invalid syntax (<ipython-input-26-359cfb69e108>, line 1)",
     "output_type": "error",
     "traceback": [
      "\u001b[0;36m  File \u001b[0;32m\"<ipython-input-26-359cfb69e108>\"\u001b[0;36m, line \u001b[0;32m1\u001b[0m\n\u001b[0;31m    last name =\"jeff\"\u001b[0m\n\u001b[0m            ^\u001b[0m\n\u001b[0;31mSyntaxError\u001b[0m\u001b[0;31m:\u001b[0m invalid syntax\n"
     ]
    }
   ],
   "source": [
    "last name =\"jeff\""
   ]
  },
  {
   "cell_type": "code",
   "execution_count": 32,
   "metadata": {},
   "outputs": [
    {
     "name": "stdout",
     "output_type": "stream",
     "text": [
      "\n",
      "Hello,I have a pig calledtibu.\n",
      "It is superawesome!\n",
      "He loves to play atprovence.\n",
      "tibuis super good atdancing.\n",
      "tibualso likes to eathamburger!\n",
      "His favourite person isyeye!\n",
      "\n"
     ]
    }
   ],
   "source": [
    "print(madlibs)"
   ]
  },
  {
   "cell_type": "code",
   "execution_count": 34,
   "metadata": {},
   "outputs": [
    {
     "name": "stdout",
     "output_type": "stream",
     "text": [
      "\n",
      "Hello,I have a pig called tibu.\n",
      "It is super awesome!\n",
      "He loves to play at provence.\n",
      "tibu is super good at dancing.\n",
      "tibu also likes to eat hamburger!\n",
      "His favourite person is yeye!\n",
      "\n"
     ]
    }
   ],
   "source": [
    "print(madlibs)"
   ]
  },
  {
   "cell_type": "code",
   "execution_count": 38,
   "metadata": {},
   "outputs": [],
   "source": [
    "cake=\"\"\"\n",
    "       <o>\n",
    "      <ooo>\n",
    "     <ooooo>\n",
    "    <ooooooo>\n",
    "   <ooooooooo>\n",
    "  <ooooooooooo>\n",
    " <ooooooooooooo>\n",
    "<ooooooooooooooo>\n",
    "\"\"\""
   ]
  },
  {
   "cell_type": "code",
   "execution_count": 39,
   "metadata": {},
   "outputs": [
    {
     "name": "stdout",
     "output_type": "stream",
     "text": [
      "\n",
      "       <o>\n",
      "      <ooo>\n",
      "     <ooooo>\n",
      "    <ooooooo>\n",
      "   <ooooooooo>\n",
      "  <ooooooooooo>\n",
      " <ooooooooooooo>\n",
      "<ooooooooooooooo>\n",
      "\n"
     ]
    }
   ],
   "source": [
    "print(cake)"
   ]
  },
  {
   "cell_type": "code",
   "execution_count": 40,
   "metadata": {},
   "outputs": [
    {
     "name": "stdout",
     "output_type": "stream",
     "text": [
      "This is my cake \n",
      "       <o>\n",
      "      <ooo>\n",
      "     <ooooo>\n",
      "    <ooooooo>\n",
      "   <ooooooooo>\n",
      "  <ooooooooooo>\n",
      " <ooooooooooooo>\n",
      "<ooooooooooooooo>\n",
      "\n"
     ]
    }
   ],
   "source": [
    "print(f\"This is my cake {cake}\")"
   ]
  },
  {
   "cell_type": "code",
   "execution_count": 41,
   "metadata": {},
   "outputs": [],
   "source": [
    "name=\"Lucas\""
   ]
  },
  {
   "cell_type": "code",
   "execution_count": 43,
   "metadata": {},
   "outputs": [
    {
     "name": "stdout",
     "output_type": "stream",
     "text": [
      "Hello my name is Lucas\n"
     ]
    }
   ],
   "source": [
    "print(\"Hello my name is {}\".format(name))"
   ]
  },
  {
   "cell_type": "code",
   "execution_count": 45,
   "metadata": {},
   "outputs": [],
   "source": [
    "last_Name=\"Aguilar Hernandez\""
   ]
  },
  {
   "cell_type": "code",
   "execution_count": 47,
   "metadata": {},
   "outputs": [
    {
     "name": "stdout",
     "output_type": "stream",
     "text": [
      "Hello Aguilar Hernandez\n"
     ]
    }
   ],
   "source": [
    "print(f\"Hello {last_Name}\")"
   ]
  },
  {
   "cell_type": "code",
   "execution_count": 48,
   "metadata": {},
   "outputs": [
    {
     "name": "stdout",
     "output_type": "stream",
     "text": [
      "Hello Aguilar Hernandez\n"
     ]
    }
   ],
   "source": [
    "print(\"Hello {}\".format(last_Name))"
   ]
  },
  {
   "cell_type": "code",
   "execution_count": 1,
   "metadata": {},
   "outputs": [
    {
     "name": "stdout",
     "output_type": "stream",
     "text": [
      "bob joe\n"
     ]
    }
   ],
   "source": [
    "print(\"bob joe\")"
   ]
  },
  {
   "cell_type": "code",
   "execution_count": 2,
   "metadata": {},
   "outputs": [
    {
     "name": "stdout",
     "output_type": "stream",
     "text": [
      "alicia\n"
     ]
    }
   ],
   "source": [
    "print(\"alicia\")"
   ]
  },
  {
   "cell_type": "code",
   "execution_count": 5,
   "metadata": {},
   "outputs": [
    {
     "name": "stdout",
     "output_type": "stream",
     "text": [
      "\n",
      "Hello,I have a pig called tutu.\n",
      "It is super smelly!\n",
      "He loves to play at china.\n",
      "tutu is super good at jumping.\n",
      "tutu also likes to eat cotton candy!\n",
      "His favourite person is lucas!\n",
      "\n"
     ]
    }
   ],
   "source": [
    "print(madlibs)"
   ]
  },
  {
   "cell_type": "code",
   "execution_count": 6,
   "metadata": {},
   "outputs": [
    {
     "ename": "NameError",
     "evalue": "name 'gfgbg' is not defined",
     "output_type": "error",
     "traceback": [
      "\u001b[0;31m---------------------------------------------------------------------------\u001b[0m",
      "\u001b[0;31mNameError\u001b[0m                                 Traceback (most recent call last)",
      "\u001b[0;32m<ipython-input-6-91580adc2efd>\u001b[0m in \u001b[0;36m<module>\u001b[0;34m\u001b[0m\n\u001b[0;32m----> 1\u001b[0;31m \u001b[0mgfgbg\u001b[0m\u001b[0;34m\u001b[0m\u001b[0;34m\u001b[0m\u001b[0m\n\u001b[0m",
      "\u001b[0;31mNameError\u001b[0m: name 'gfgbg' is not defined"
     ]
    }
   ],
   "source": [
    "gfgbg"
   ]
  },
  {
   "cell_type": "code",
   "execution_count": 8,
   "metadata": {},
   "outputs": [
    {
     "name": "stdout",
     "output_type": "stream",
     "text": [
      "alicia\n"
     ]
    }
   ],
   "source": [
    "print(\"alicia\")"
   ]
  },
  {
   "cell_type": "code",
   "execution_count": 9,
   "metadata": {},
   "outputs": [],
   "source": [
    "stuffy=\"tutu\""
   ]
  },
  {
   "cell_type": "code",
   "execution_count": 10,
   "metadata": {},
   "outputs": [
    {
     "name": "stdout",
     "output_type": "stream",
     "text": [
      "stuffy\n"
     ]
    }
   ],
   "source": [
    "print(\"stuffy\")"
   ]
  },
  {
   "cell_type": "code",
   "execution_count": 11,
   "metadata": {},
   "outputs": [
    {
     "name": "stdout",
     "output_type": "stream",
     "text": [
      "tutu\n"
     ]
    }
   ],
   "source": [
    "print(stuffy)"
   ]
  },
  {
   "cell_type": "code",
   "execution_count": 13,
   "metadata": {},
   "outputs": [],
   "source": [
    "name=\"sophie\""
   ]
  },
  {
   "cell_type": "code",
   "execution_count": null,
   "metadata": {},
   "outputs": [],
   "source": [
    "cake="
   ]
  },
  {
   "cell_type": "code",
   "execution_count": null,
   "metadata": {},
   "outputs": [],
   "source": []
  },
  {
   "cell_type": "code",
   "execution_count": null,
   "metadata": {},
   "outputs": [],
   "source": []
  }
 ],
 "metadata": {
  "kernelspec": {
   "display_name": "Python 3",
   "language": "python",
   "name": "python3"
  },
  "language_info": {
   "codemirror_mode": {
    "name": "ipython",
    "version": 3
   },
   "file_extension": ".py",
   "mimetype": "text/x-python",
   "name": "python",
   "nbconvert_exporter": "python",
   "pygments_lexer": "ipython3",
   "version": "3.7.3"
  }
 },
 "nbformat": 4,
 "nbformat_minor": 2
}
