{
 "cells": [
  {
   "cell_type": "code",
   "execution_count": 2,
   "metadata": {},
   "outputs": [
    {
     "name": "stdout",
     "output_type": "stream",
     "text": [
      "How many sides do you want on your dice?1000000\n",
      "34497\n",
      "Do you want to roll the dice? yes/no: no\n"
     ]
    }
   ],
   "source": [
    "import random\n",
    "\n",
    "again='yes'\n",
    "\n",
    "while again == 'yes':\n",
    "    \n",
    "    sides=int(input('How many sides do you want on your dice?'))\n",
    "    \n",
    "    if again == 'yes':\n",
    "        print(random.randint(1,sides))\n",
    "        again=input('Do you want to roll the dice? yes/no: ')\n",
    "    elif again=='no':\n",
    "        print('...exiting')\n",
    "        break\n",
    "\n"
   ]
  },
  {
   "cell_type": "code",
   "execution_count": null,
   "metadata": {},
   "outputs": [],
   "source": []
  },
  {
   "cell_type": "code",
   "execution_count": null,
   "metadata": {},
   "outputs": [],
   "source": []
  },
  {
   "cell_type": "code",
   "execution_count": null,
   "metadata": {},
   "outputs": [],
   "source": []
  }
 ],
 "metadata": {
  "kernelspec": {
   "display_name": "Python 3",
   "language": "python",
   "name": "python3"
  },
  "language_info": {
   "codemirror_mode": {
    "name": "ipython",
    "version": 3
   },
   "file_extension": ".py",
   "mimetype": "text/x-python",
   "name": "python",
   "nbconvert_exporter": "python",
   "pygments_lexer": "ipython3",
   "version": "3.7.3"
  }
 },
 "nbformat": 4,
 "nbformat_minor": 2
}
