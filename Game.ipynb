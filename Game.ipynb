{
 "cells": [
  {
   "cell_type": "code",
   "execution_count": 1,
   "metadata": {},
   "outputs": [
    {
     "name": "stdout",
     "output_type": "stream",
     "text": [
      "\n",
      "You wake up stranded on a foggy island. What do you do?\n",
      "Answer by typing in: Option 1, Option2, or Option 3.\n",
      "\n",
      "1: Swim back into the ocean to try to find home.\n",
      "2: Climb and sleep in a nearby tree.\n",
      "3: Check out what you have with you and do sometihng with them.\n",
      "\n",
      "\n",
      "Option 3\n",
      " \n",
      "Great! So you have a flimsy survival saw, a pocketknife, a single waterproof match, and a plastic bag.\n",
      " Now you made a fire and a quick shelter. Hooray you are still alive! Yay!\n"
     ]
    }
   ],
   "source": [
    "choice = input('''\n",
    "You wake up stranded on a foggy island. What do you do?\n",
    "Answer by typing in: Option 1, Option2, or Option 3.\n",
    "\n",
    "1: Swim back into the ocean to try to find home.\n",
    "2: Climb and sleep in a nearby tree.\n",
    "3: Check out what you have with you and do sometihng with them.\n",
    "\n",
    "\n",
    "''')\n",
    "\n",
    "if choice == 'Option 1':\n",
    "    print(\" \\n1) You swam back into the ocean. You dived into a rock. GAME OVER!!!\")\n",
    "elif choice == 'Option 3':\n",
    "    print(\" \\nGreat! So you have a flimsy survival saw, a pocketknife, a single waterproof match, and a plastic bag.\\n Now you made a fire and a quick shelter. Hooray you are still alive! Yay!\")\n",
    "else:\n",
    "    print(\" \\n Ok, you hid on a tree until morning. You got hyperthermia and went X_X. GAME OVER!!!\")\n",
    "    \n",
    "if choice == 'Option 2' :\n",
    "    choice_two = input (\"\")"
   ]
  },
  {
   "cell_type": "code",
   "execution_count": null,
   "metadata": {},
   "outputs": [],
   "source": []
  }
 ],
 "metadata": {
  "kernelspec": {
   "display_name": "Python 3",
   "language": "python",
   "name": "python3"
  },
  "language_info": {
   "codemirror_mode": {
    "name": "ipython",
    "version": 3
   },
   "file_extension": ".py",
   "mimetype": "text/x-python",
   "name": "python",
   "nbconvert_exporter": "python",
   "pygments_lexer": "ipython3",
   "version": "3.7.3"
  }
 },
 "nbformat": 4,
 "nbformat_minor": 2
}
