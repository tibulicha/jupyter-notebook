{
 "cells": [
  {
   "cell_type": "code",
   "execution_count": null,
   "metadata": {},
   "outputs": [
    {
     "name": "stdout",
     "output_type": "stream",
     "text": [
      "This is a Hangman game.\n",
      "You will try to guess an animal.\n",
      "\n",
      "The animal's name has 7 letters\n",
      "\n",
      "You have 10 guesses.\n",
      "\n"
     ]
    }
   ],
   "source": [
    "import random\n",
    "\n",
    "animals = ['fish', 'cow', 'moose', 'cat', 'dog', 'alligator', 'crocodile', 'coyote', 'snake', 'shark', 'lion', 'penguin', 'llama', 'porcupine','monkey','lobster','beaver','frog','goat', 'gorilla','hamster','camel','chipmunk','cheeta','bat']\n",
    "\n",
    "secret_animal = random.choice(animals)\n",
    "\n",
    "print('''This is a Hangman game.\n",
    "You will try to guess an animal.\n",
    "''')\n",
    "length = len(secret_animal)\n",
    "print(f\"The animal's name has {length} letters\")\n",
    "print('''\n",
    "You have 10 guesses.\n",
    "''')\n",
    "\n",
    "guess1=input('What is you first guess? ')\n",
    "\n",
    "guess1.lower()\n",
    "\n",
    " "
   ]
  },
  {
   "cell_type": "code",
   "execution_count": null,
   "metadata": {},
   "outputs": [],
   "source": []
  },
  {
   "cell_type": "code",
   "execution_count": null,
   "metadata": {},
   "outputs": [],
   "source": []
  }
 ],
 "metadata": {
  "kernelspec": {
   "display_name": "Python 3",
   "language": "python",
   "name": "python3"
  },
  "language_info": {
   "codemirror_mode": {
    "name": "ipython",
    "version": 3
   },
   "file_extension": ".py",
   "mimetype": "text/x-python",
   "name": "python",
   "nbconvert_exporter": "python",
   "pygments_lexer": "ipython3",
   "version": "3.7.3"
  }
 },
 "nbformat": 4,
 "nbformat_minor": 2
}
