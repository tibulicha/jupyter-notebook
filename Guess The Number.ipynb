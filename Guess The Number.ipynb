{
 "cells": [
  {
   "cell_type": "code",
   "execution_count": 6,
   "metadata": {},
   "outputs": [
    {
     "name": "stdout",
     "output_type": "stream",
     "text": [
      "\n",
      "\n",
      "What is your guess?   49\n",
      "\n",
      "\n",
      "        Your guess is to high. Try again.   \n",
      "\n",
      "        \n",
      "        What is your guess?   30\n",
      "\n",
      "        \n",
      "        your guess it to low. Try again.   \n",
      "        \n",
      "\n",
      "        \n",
      "        What is your guess?   36\n",
      "\n",
      "        \n",
      "        your guess it to low. Try again.   \n",
      "        \n",
      "\n",
      "        \n",
      "        What is your guess?   40\n",
      "\n",
      "        \n",
      "        your guess it to low. Try again.   \n",
      "        \n",
      "\n",
      "        \n",
      "        What is your guess?   45\n",
      "\n",
      "        \n",
      "        your guess it to low. Try again.   \n",
      "        \n",
      "\n",
      "        \n",
      "        What is your guess?   46\n",
      "\n",
      "        \n",
      "        your guess it to low. Try again.   \n",
      "        \n",
      "\n",
      "        \n",
      "        What is your guess?   47\n",
      "\n",
      "    Your are right! YEEEE!   \n"
     ]
    }
   ],
   "source": [
    "import random\n",
    "\n",
    "hidden_number = random.randint(0,100)\n",
    "\n",
    "guessNumber = int(input('''\n",
    "\n",
    "What is your guess?   '''))\n",
    "while guessNumber!=hidden_number:\n",
    "    if guessNumber < hidden_number:\n",
    "        print('''\n",
    "        \n",
    "        your guess it to low. Try again.   \n",
    "        ''')\n",
    "        guessNumber = int(input('''\n",
    "        \n",
    "        What is your guess?   '''))\n",
    "    elif guessNumber > hidden_number:\n",
    "        print('''\n",
    "\n",
    "        Your guess is to high. Try again.   ''')\n",
    "        guessNumber = int(input('''\n",
    "        \n",
    "        What is your guess?   '''))\n",
    "if guessNumber == hidden_number:\n",
    "    print('''\n",
    "    Your are right! YEEEE!   ''')"
   ]
  },
  {
   "cell_type": "code",
   "execution_count": null,
   "metadata": {},
   "outputs": [],
   "source": []
  }
 ],
 "metadata": {
  "kernelspec": {
   "display_name": "Python 3",
   "language": "python",
   "name": "python3"
  },
  "language_info": {
   "codemirror_mode": {
    "name": "ipython",
    "version": 3
   },
   "file_extension": ".py",
   "mimetype": "text/x-python",
   "name": "python",
   "nbconvert_exporter": "python",
   "pygments_lexer": "ipython3",
   "version": "3.7.3"
  }
 },
 "nbformat": 4,
 "nbformat_minor": 2
}
